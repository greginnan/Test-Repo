{
 "cells": [
  {
   "cell_type": "markdown",
   "id": "1b8645c6",
   "metadata": {},
   "source": [
    "<p>Sean Hill, [[Krembil Centre for Neuroinformatics]] &amp; [[CAMH]]</p>\n",
    "<p>Andrew Davison, [[CNRS]] &amp; [[Human Brain Project]]</p>\n",
    "<p>Anna-Kristin Kaufmann, [[EPFL]] &amp; [[Blue Brain Project]]</p>\n",
    "<p>Tom Gillespie, [[UCSD]] &amp; [[Neuroscience Information Framework]]</p>\n",
    "<p>Genrich Ivaska, [[EPFL]] &amp; [[Blue Brain Project]]</p>\n",
    "<p>Oliver Schmid, [[EPFL]] &amp; [[Human Brain Project]]</p>\n",
    "<p>Jean-Denis Courcol, [[EPFL]] &amp; [[Blue Brain Project]]</p>\n",
    "<p>Samuel Kerrien, [[EPFL]] &amp; [[Blue Brain Project]]</p>\n",
    "<p>Mohameth François Sy, [[EPFL]] &amp; [[Blue Brain Project]]</p>\n",
    "<p>Bogdan Roman, [[EPFL]] &amp; [[Blue Brain Project]]</p>\n",
    "<p>Pradeep Reddy Raamana, [[Rotman Research Institute]]</p>\n"
   ]
  }
 ],
 "metadata": {},
 "nbformat": 4,
 "nbformat_minor": 5
}
