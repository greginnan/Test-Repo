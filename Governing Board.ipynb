{
 "cells": [
  {
   "cell_type": "markdown",
   "id": "7e3e367d",
   "metadata": {},
   "source": [
    "<p>[[Council for Training, Science, and Infrastructure]]\n",
    "[[Industry Advisory Committee]]</p>\n",
    "<p>Prof. Maryann Martone, #UCSanDiego\n",
    "Prof. Randy McIntosh, #SimonFraserUniversity</p>\n",
    "<p>Jeanette Hellgren Kotaleski, #KarolinskaInstitute\n",
    "Prof Petra Ritter, Brain Simulation Center #Charité\n",
    "Leonid Rubchinsky, #OCNS\n",
    "Vijay Iver, #MathWorks\n",
    "Prof JP Poline, #McGillUniversity\n",
    "Dr. Mark Goldammer, #EuropeanCommission\n",
    "Dr. Andreas Holtel, #EuropeanCommission\n",
    "Prof Ariel Rokem, #UniversityofWashington</p>\n"
   ]
  }
 ],
 "metadata": {},
 "nbformat": 4,
 "nbformat_minor": 5
}
