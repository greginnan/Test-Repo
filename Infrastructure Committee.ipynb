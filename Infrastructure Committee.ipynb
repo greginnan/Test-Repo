{
 "cells": [
  {
   "cell_type": "markdown",
   "id": "14a8dafa",
   "metadata": {},
   "source": [
    "<p>Prof. Petra Ritter (Chair), #CharitéUniversityMedicineBerlin\n",
    "Prof. Thomas Wachtler (Deputy Chair), #LMUMünich\n",
    "Dr. Wojtek Goscinski, #NationalImagingFacility\n",
    "Prof. Prasun Roy, #IIT\n",
    "Prof. Paul Tiesinga, #RadboudUniversity\n",
    "Prof. Jan Bjaalie, #UniversityofOslo\n",
    "Dr. Arvid Kumar, #RoyalInstituteofTechnology\n",
    "John Pelan, #SainsburyWellcomeCentre\n",
    "Prof. David Kennedy, #NITRC\n",
    "Dimitri Yatsenko, #DataJoint</p>\n"
   ]
  }
 ],
 "metadata": {},
 "nbformat": 4,
 "nbformat_minor": 5
}
