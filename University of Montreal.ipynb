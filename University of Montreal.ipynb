{
 "cells": [
  {
   "cell_type": "markdown",
   "id": "857a41c6",
   "metadata": {},
   "source": []
  }
 ],
 "metadata": {},
 "nbformat": 4,
 "nbformat_minor": 5
}
