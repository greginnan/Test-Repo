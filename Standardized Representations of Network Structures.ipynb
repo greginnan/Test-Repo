{
 "cells": [
  {
   "cell_type": "markdown",
   "id": "b62dc83b",
   "metadata": {},
   "source": [
    "<p>Anton Arkhipov, [[Allen Institute]]</p>\n",
    "<p>Tom Close, [[Monash University]]</p>\n",
    "<p>Sharon Crook, [[Arizona State University]]</p>\n",
    "<p>Kael Dai, [[Allen Institute]]</p>\n",
    "<p>Andrew Davison, [[UNIC]] &amp; [[CNRS]]</p>\n",
    "<p>Lia Domide, [[Codemart]] &amp; [[Aix-Marseille University]]</p>\n",
    "<p>Salvador Durá-Bernal, [[SUNY Downstate Medical Center]]</p>\n",
    "<p>Viktor Jirsa, [[Aix-Marseille University]]</p>\n",
    "<p>John Griffiths, [[RRI]] &amp; [[Baycrest]]</p>\n",
    "<p>Padraig Gleeson, [[UCL]]</p>\n",
    "<p>Sacha van Albada, [[Forschungszentrum Jülich]]</p>\n",
    "<p>Marmaduke Woodman, [[Aix-Marseille University]]</p>\n"
   ]
  }
 ],
 "metadata": {},
 "nbformat": 4,
 "nbformat_minor": 5
}
