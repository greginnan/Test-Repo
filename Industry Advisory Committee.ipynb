{
 "cells": [
  {
   "cell_type": "markdown",
   "id": "72ee8cec",
   "metadata": {},
   "source": [
    "<p>Vijay Iyer, #MathWorks</p>\n",
    "<p>James Barker, #F1000</p>\n",
    "<p>Anita Bandrowski, #SciCrunch</p>\n",
    "<p>Stephen Larson, #Metacell</p>\n",
    "<p>Ben Dichter, #CatalystNeuro</p>\n",
    "<p>Aidan Sullivan, #MBFBioscience</p>\n",
    "<p>Dimitri Yatsenko, #DataJoint</p>\n",
    "<p>Markus Butz-Ostendorf, #Biomax</p>\n"
   ]
  }
 ],
 "metadata": {},
 "nbformat": 4,
 "nbformat_minor": 5
}
