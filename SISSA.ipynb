{
 "cells": [
  {
   "cell_type": "markdown",
   "id": "67c23d8b",
   "metadata": {},
   "source": []
  }
 ],
 "metadata": {},
 "nbformat": 4,
 "nbformat_minor": 5
}
