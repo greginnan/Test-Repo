{
 "cells": [
  {
   "cell_type": "markdown",
   "id": "92f09686",
   "metadata": {},
   "source": [
    "<p>Suzy Styles, [[Nanyang Technological University]]\n",
    "Anđela Šoškić, [[University of Belgrade]]\n",
    "Han Ke, [[Nanyang Technological University]]</p>\n",
    "<p>Vanja Kovic, [[University of Belgrade]]</p>\n",
    "<p>Remi Gau, [[Université catholique de Louvain]]</p>\n",
    "<p>Alec Shaw, [[University of Zürich]], Switzerland</p>\n",
    "<p>Ekansh Sareen, [[IIIT Delhi]]</p>\n",
    "<p>Giorgio Ganis, [[University of Plymouth]]</p>\n",
    "<p>Guiomar Niso, [[Indiana University]]</p>\n",
    "<p>Jasmine Wei Rou Tan, Goldsmiths, [[University of London]]</p>\n",
    "<p>Nastassja Lopes Fischer, [[Nanyang Technological University]]</p>\n",
    "<p>Robert Oostenveld, [[Donders Institute]]</p>\n",
    "<p>Shamala Sundaray, [[Nanyang Technological University]]</p>\n",
    "<p>Yu-Fang Yang, [[University of Würzburg]]</p>\n",
    "<p>Yuri Pavlov, [[University of Tübingen]], [[Ural Federal University]]</p>\n",
    "<p>Johannes Algermissen, [[Donders Institute]], Radboud University</p>\n",
    "<p>Matt Jaquiery, [[University of Oxford]]</p>\n",
    "<p>Katarina Stekić, [[University of Belgrade]], Serbia</p>\n",
    "<p>Dejan Pajić,[[ University of Novi Sad]], Serbia</p>\n",
    "<p>Mariella Paul, [[University of Göttingen]]</p>\n"
   ]
  }
 ],
 "metadata": {},
 "nbformat": 4,
 "nbformat_minor": 5
}
