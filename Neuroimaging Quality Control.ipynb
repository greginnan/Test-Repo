{
 "cells": [
  {
   "cell_type": "markdown",
   "id": "cebafb6e",
   "metadata": {},
   "source": [
    "<p>Stephen Strother, [[Baycrest\n",
    "]]\n",
    "Pradeep Reddy Raamana, [[Baycrest]]</p>\n",
    "<p>David Kennedy, [[University of Massachusetts Medical School]]</p>\n",
    "<p>Pierre Bellec. [[University of Montreal]]</p>\n",
    "<p>Sebastian Urchs, [[McGill University]]</p>\n",
    "<p>Elizabeth Dupre, MNI [[McGill University]]</p>\n",
    "<p>Taylor Salo, [[Florida International University]]</p>\n",
    "<p>Katie Bottenhorn, [[Florida International University]]</p>\n",
    "<p>Erin Dickie, [[University of Toronto]]</p>\n",
    "<p>Yang Ding, [[McGill University]]</p>\n",
    "<p>Steve Hodges, [[Microsoft]]</p>\n",
    "<p>Julie Bates, [[University of Massachusetts Medical School]]</p>\n",
    "<p>Dawn Smith, [[CAMH]]</p>\n",
    "<p>Greg Kiar, [[McGill University]]</p>\n",
    "<p>Basile Pinsard, [[University of Montreal]]</p>\n"
   ]
  }
 ],
 "metadata": {},
 "nbformat": 4,
 "nbformat_minor": 5
}
