{
 "cells": [
  {
   "cell_type": "markdown",
   "id": "98c1acbc",
   "metadata": {},
   "source": [
    "<p>[[INCF Working Groups]]</p>\n",
    "<p>Samir Das (Chair), McGill University #McGillUniversity\n",
    "Sharmila Venugopal (Vice Chair), #OCNS\n",
    "Wojtek Goscinski, #MonashUniversity\n",
    "Francis Jeanson, #Datadex\n",
    "Roman Mouček, #KIV\n",
    "Thomas Wachtler, #LMUMünich\n",
    "Ibrahima Faye, #UniversitiTeknologiPETRONAS\n",
    "Trygve Leergaard, #UniversityofOslo\n",
    "Jeanette Hellgren-Kotaleski, #RoyalInstituteofTechnology\n",
    "Maryann Martone, #UCSanDiego\n",
    "David Kennedy, #UniversityofMassachusetts\n",
    "Kay Robbins, #UTSA\n",
    "Stephen D. Van Hooser, #BrandeisUniversity\n",
    "Chris Fietkiewicz, #HobartandWilliamSmithColleges</p>\n"
   ]
  }
 ],
 "metadata": {},
 "nbformat": 4,
 "nbformat_minor": 5
}
