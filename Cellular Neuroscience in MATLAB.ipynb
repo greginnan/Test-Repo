{
 "cells": [
  {
   "cell_type": "markdown",
   "id": "5ea80723",
   "metadata": {},
   "source": [
    "<p>Vijay Iyer [[MathWorks]] #MathWorks\n",
    "Khaled Khairy [[St. Jude Children’s Research Hospital]]</p>\n",
    "<p>Thomas Künzel [[MathWorks]] #MathWorks</p>\n",
    "<p>Simon Peron #NewYorkUniversity</p>\n",
    "<p>Nick Steinmetz [[University of Washington]]</p>\n"
   ]
  }
 ],
 "metadata": {},
 "nbformat": 4,
 "nbformat_minor": 5
}
