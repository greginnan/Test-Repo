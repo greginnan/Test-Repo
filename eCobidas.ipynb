{
 "cells": [
  {
   "cell_type": "markdown",
   "id": "9b2698e7",
   "metadata": {},
   "source": [
    "<p>Remi Gau, [[Universite Catholique de Louvain]]</p>\n",
    "<p>Cyril Pernet, [[TBU]]</p>\n",
    "<p>Sanu Ann, [[MIT]]</p>\n",
    "<p>Johannes Algermissen, [[Donders Institute]] for Brain, Cognition, and Behaviour, Radboud University</p>\n"
   ]
  }
 ],
 "metadata": {},
 "nbformat": 4,
 "nbformat_minor": 5
}
