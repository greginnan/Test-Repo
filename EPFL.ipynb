{
 "cells": [
  {
   "cell_type": "markdown",
   "id": "4a7b1da6",
   "metadata": {},
   "source": []
  }
 ],
 "metadata": {},
 "nbformat": 4,
 "nbformat_minor": 5
}
