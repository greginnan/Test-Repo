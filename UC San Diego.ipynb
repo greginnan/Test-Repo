{
 "cells": [
  {
   "cell_type": "markdown",
   "id": "f7447aff",
   "metadata": {},
   "source": []
  }
 ],
 "metadata": {},
 "nbformat": 4,
 "nbformat_minor": 5
}
