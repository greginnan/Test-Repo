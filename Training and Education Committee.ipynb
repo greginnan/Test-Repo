{
 "cells": [
  {
   "cell_type": "markdown",
   "id": "216ee2b3",
   "metadata": {},
   "source": [
    "<p>Ariel Rokem, #UniversityofWashington (Chair)\n",
    "William Grisham, #UCLA  #iNeuroInitiative (Deputy Chair)\n",
    "Aušra Saudargiene, Neuroscience Institute, #LithuanianUniversityofHealthSciences #VytautasMagnusUniversity\n",
    "John Van Horn, #UniversityofVirginia #B2KTrainingInitiative\n",
    "Chris Brozdowski, #DataJoint\n",
    "Franco Pestilli, #UniversityofTexasatAustin\n",
    "Karen Doyle, #UniversityofGalway</p>\n"
   ]
  }
 ],
 "metadata": {},
 "nbformat": 4,
 "nbformat_minor": 5
}
