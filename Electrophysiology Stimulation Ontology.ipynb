{
 "cells": [
  {
   "cell_type": "markdown",
   "id": "44c19225",
   "metadata": {},
   "source": [
    "<p>Tom Gillespie, [[UC San Diego]]</p>\n",
    "<p>Lydia Ng, [[Allen Institute]]</p>\n",
    "<p>Pamela Baker, [[Allen Institute]]</p>\n",
    "<p>Patrick Rey, [[Allen Institute]]</p>\n",
    "<p>Andrew Davison, [[CNRS]]</p>\n",
    "<p>Glynis Mattheisen, [[CNRS]]</p>\n",
    "<p>Oliver Ruebel, [[LBL]]</p>\n",
    "<p>Ben Dichter, [[LBL]]</p>\n",
    "<p>Ulrike Schlegel, [[University of Oslo]]</p>\n",
    "<p>Lyuba Zehl, [[Forschungszentrum Jülich]]</p>\n",
    "<p>Stephen Van Hooser, [[Brandeis University]]</p>\n",
    "<p>Mathew Abrams, [[INCF]] Secretariat</p>\n"
   ]
  }
 ],
 "metadata": {},
 "nbformat": 4,
 "nbformat_minor": 5
}
