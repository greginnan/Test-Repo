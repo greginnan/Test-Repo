{
 "cells": [
  {
   "cell_type": "markdown",
   "id": "9e9823d9",
   "metadata": {},
   "source": [
    "<h1>objective</h1>\n",
    "<p>Trying to create network visualization/illustration of INCF network as per JB Poline's suggestion fas an action item during the previous (11.4.23) CTSI meeting.</p>\n",
    "<p>The current graph view displays the working groups which I (Greg) am responsible for as of now, with each node consisting of a member list and their affiliated insitutions or organizations represented by <strong>links</strong>, rather than <strong>tags</strong>.</p>\n",
    "<p>A nice feature so far is when you view nodes in &quot;Local Graph View&quot;. This kind of performs what I wanted out of nested graphs, but not sure yet.</p>\n",
    "<p>Am considering creating another version which does the inverse, using <strong>tags</strong> instead of <strong>links</strong>. Main concern with <strong>links</strong> is the clutter they bring. With <strong>tags</strong>, there is an option for toggling on and off, but then I don't see an option for filtering out <em>which</em> tags get shown, only that all of them do (e.g., it would be nice to filter by strength, number, or actually sharing this tag with another node).</p>\n",
    "<p>Next Steps:\n",
    "1. Create version using tags.\n",
    "2. note: tags do not include spaces\n",
    "2. Find if you can do nested graphs (e.g., INCF --&gt; SBP/IC/IAC/Secretariat/WGs --&gt; eCOBIDAS/NIDM/ARTEM-IS/etc...)\n",
    "3. Can you color label a node without it being a group?\n",
    "1. If not, are there other plug-ins which can be added to Obsidian (e.g., InfraNodus?)\n",
    "4. Tags = Institutions vs. Members vs. Institutions &amp; Members?\n",
    "5. Create version to highlight which members are on which other committees apart from their working groups.\n",
    "6. Can this be embedded on infc.org?\n",
    "7. Should be thinking ahead, what are we really wanting out of this viz? What's the goal for the end user?\n",
    "8. Tags: can click on one and it wills how side bar of all related names and groups\n",
    "1. links, you can click through and navigate (via local graph option)\n",
    "2.</p>\n"
   ]
  }
 ],
 "metadata": {},
 "nbformat": 4,
 "nbformat_minor": 5
}
