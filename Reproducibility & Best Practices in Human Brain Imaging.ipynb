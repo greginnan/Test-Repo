{
 "cells": [
  {
   "cell_type": "markdown",
   "id": "3d7cfc75",
   "metadata": {},
   "source": [
    "<p>Jean-Baptiste Poline, [[McGill University]]\n",
    "Krzysztof Gorgolewski, [[Stanford University]]\n",
    "David Kennedy, [[University of Massachusetts Medical School]]\n",
    "Kirstie Whitaker, [[Alan Turing Institute]]\n",
    "Ross Blair, [[Stanford Center for Reproducible Neuroscience]]\n",
    "Stefan Appelhoff, [[Max Planck Institute for Human Development]]\n",
    "Taylor Salo, [[Florida International University]]\n",
    "Camille Maumet, [[Inria]]\n",
    "Manjari Narayan, [[Stanford University]]\n",
    "Constellates, github user\n",
    "Vanessa Sochat, [[Stanford Research Computing]]\n",
    "Tibor Auer, [[University of Surrey]]\n",
    "Johanna Bayer, The [[University of Melbourne]]</p>\n"
   ]
  }
 ],
 "metadata": {},
 "nbformat": 4,
 "nbformat_minor": 5
}
