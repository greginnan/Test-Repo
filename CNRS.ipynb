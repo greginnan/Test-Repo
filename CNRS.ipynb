{
 "cells": [
  {
   "cell_type": "markdown",
   "id": "8b483f65",
   "metadata": {},
   "source": []
  }
 ],
 "metadata": {},
 "nbformat": 4,
 "nbformat_minor": 5
}
