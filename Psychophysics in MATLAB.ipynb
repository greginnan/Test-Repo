{
 "cells": [
  {
   "cell_type": "markdown",
   "id": "dacd71fd",
   "metadata": {},
   "source": [
    "<p>Nikolaus Troje, [[York University]]</p>\n",
    "<p>Vijay Iyer [[MathWorks]] #MathWorks</p>\n"
   ]
  }
 ],
 "metadata": {},
 "nbformat": 4,
 "nbformat_minor": 5
}
