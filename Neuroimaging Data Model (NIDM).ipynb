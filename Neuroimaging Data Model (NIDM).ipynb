{
 "cells": [
  {
   "cell_type": "markdown",
   "id": "9a47ff0e",
   "metadata": {},
   "source": [
    "<p>David Keator, [[UC Irvine]]</p>\n",
    "<p>Camille Maumet, [[Inria]], [[Universite Rennes]], [[CNRS]], [[Inserm]]</p>\n",
    "<p>Alexander Bowring, Nuffield Department of Population Health, [[University of Oxford]]</p>\n",
    "<p>Boon Seng Liew, [[Hospital Sungai Buloh]], [[Universiti Sains Malaysia]]</p>\n",
    "<p>Dorota Jarecka, [[MIT]]</p>\n",
    "<p>Jafri Malin Abdullah, [[Brain Behavior Cluster]], [[Universiti Sains Malaysia]]</p>\n",
    "<p>JB Poline, [[McGill University]]</p>\n",
    "<p>Junhua Li, [[University of Essex]]</p>\n",
    "<p>Karl Helmer, [[Harvard University]]</p>\n",
    "<p>Markus Butz-Ostendorf, [[Biomax]]</p>\n",
    "<p>Michael Dayan, [[Campus Biotech Geneva]]</p>\n",
    "<p>Nazek Queder, [[UC Irvine]]</p>\n",
    "<p>Sanu Ann Abraham, [[MIT]]</p>\n",
    "<p>Satrajit Ghosh, [[MIT]]</p>\n",
    "<p>Sebastian Urchs, [[University of Montreal]]</p>\n",
    "<p>Thomas Nichols, [[University of Oxford]]</p>\n",
    "<p>Tibor Auer, [[University of Surrey]]</p>\n",
    "<p>Xinlin You, [[Hospital Sungai Buloh]] and [[Shah Alam]]</p>\n",
    "<p>Yaroslav Halchenko, [[Dartmouth College]]</p>\n",
    "<p>Lavanya M K, [[University of Göttingen]]</p>\n"
   ]
  }
 ],
 "metadata": {},
 "nbformat": 4,
 "nbformat_minor": 5
}
