{
 "cells": [
  {
   "cell_type": "markdown",
   "id": "bf33ffdf",
   "metadata": {},
   "source": []
  }
 ],
 "metadata": {},
 "nbformat": 4,
 "nbformat_minor": 5
}
