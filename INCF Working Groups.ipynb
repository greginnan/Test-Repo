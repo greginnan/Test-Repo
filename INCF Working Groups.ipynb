{
 "cells": [
  {
   "cell_type": "markdown",
   "id": "02162821",
   "metadata": {},
   "source": [
    "<ul>\n",
    "<li>[[ARTEM-IS]]</li>\n",
    "<li>[[Psychophysics in MATLAB]]</li>\n",
    "<li>[[Cellular Neuroscience in MATLAB]]</li>\n",
    "<li>[[Reproducibility &amp; Best Practices in Human Brain Imaging]]</li>\n",
    "<li>[[Computational Neuroscience Software]]</li>\n",
    "<li>[[Standardized Representations of Network Structures]]</li>\n",
    "<li>[[Neuroimaging Data Model (NIDM)]]</li>\n",
    "<li>[[Neuroshapes, Open SHACL Schemas for FAIR]]</li>\n",
    "<li>[[eCobidas]]</li>\n",
    "<li>[[Standardized Data]]</li>\n",
    "<li>[[Neuroimaging Quality Control]]</li>\n",
    "<li>[[Electrophysiology Stimulation Ontology]]</li>\n",
    "<li></li>\n",
    "</ul>\n"
   ]
  }
 ],
 "metadata": {},
 "nbformat": 4,
 "nbformat_minor": 5
}
